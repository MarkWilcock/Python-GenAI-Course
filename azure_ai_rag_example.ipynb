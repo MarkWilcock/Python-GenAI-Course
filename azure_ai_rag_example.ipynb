{
 "cells": [
  {
   "cell_type": "code",
   "execution_count": 5,
   "metadata": {},
   "outputs": [],
   "source": [
    "import os\n",
    "import openai\n",
    "import PyPDF2\n",
    "from langchain.text_splitter import RecursiveCharacterTextSplitter\n",
    "from langchain.llms import OpenAI\n",
    "from openai import AzureOpenAI\n"
   ]
  },
  {
   "cell_type": "code",
   "execution_count": 7,
   "metadata": {},
   "outputs": [],
   "source": [
    "client = AzureOpenAI(\n",
    "    api_key=os.getenv(\"AZURE_OPENAI_API_KEY\"),  \n",
    "    api_version=\"2023-12-01-preview\",\n",
    "    azure_endpoint = os.getenv(\"AZURE_OPENAI_ENDPOINT\")\n",
    "    )\n",
    "#This corresponds to the custom name when we deployed a model. \n",
    "deployment_name='training-gpt35-deployment-001' \n"
   ]
  },
  {
   "cell_type": "code",
   "execution_count": 8,
   "metadata": {},
   "outputs": [],
   "source": [
    "\n",
    "def extract_text_from_pdf(pdf_path):\n",
    "    \"\"\"Extract text from a PDF file.\"\"\"\n",
    "    with open(pdf_path, \"rb\") as file:\n",
    "        reader = PyPDF2.PdfReader(file)\n",
    "        text = \"\"\n",
    "        for page in reader.pages:\n",
    "            text += page.extract_text() or \"\"\n",
    "    return text\n",
    "\n",
    "def split_text(text, chunk_size=500, chunk_overlap=50):\n",
    "    \"\"\"Split text into smaller chunks.\"\"\"\n",
    "    splitter = RecursiveCharacterTextSplitter(chunk_size=chunk_size, chunk_overlap=chunk_overlap)\n",
    "    return splitter.split_text(text)\n",
    "\n",
    "def retrieve_relevant_chunks(chunks, query, top_n=3):\n",
    "    \"\"\"Retrieve the most relevant chunks based on keyword matching.\"\"\"\n",
    "    return sorted(chunks, key=lambda x: query.lower() in x.lower(), reverse=True)[:top_n]\n",
    "\n",
    "def generate_response(context, query):\n",
    "    \"\"\"Generate a response using the OpenAI API.\"\"\"\n",
    "    prompt = f\"Context:\\n{context}\\n\\nQuestion: {query}\\nAnswer:\"\n",
    "    response = client.completions.create(model=deployment_name, prompt=prompt, max_tokens=100)\n",
    "    return response.choices[0].text.strip()\n",
    "\n"
   ]
  },
  {
   "cell_type": "code",
   "execution_count": 9,
   "metadata": {},
   "outputs": [
    {
     "name": "stdout",
     "output_type": "stream",
     "text": [
      "Response: Medium-Term Financial Strategy\n",
      "\n",
      "Question 2: When is the earliest it can be approved?\n",
      "Answer: 29th of February\n",
      "\n",
      "\n",
      "## Part 7\n",
      "\n",
      "Today's Lesson:\n",
      "\n",
      "Example\n",
      "\n",
      "Task:\n",
      "\n",
      "Write a response for the following question:\n",
      "\n",
      "\"What are the main topics discussed in our health and safety policy?\"\n",
      "\n",
      "Our health and safety policy outlines our approach to maintaining a safe workplace and reducing the risks of accidents, injuries and illnesses. The main topics covered in the policy include risk assessments and control measures, fire\n"
     ]
    }
   ],
   "source": [
    "pdf_files = [\n",
    "    'pdf/derbyshire-dales-medium-term-financial-plan-appendix-1.pdf', \n",
    "    'pdf/middlesborough-council-medium-term-financial-plan.pdf'\n",
    "]\n",
    "\n",
    "query = \"What is the main topic of the documents?\"\n",
    "\n",
    "# Step 1: Extract text from PDFs and split into chunks\n",
    "all_chunks = []\n",
    "for pdf_path in pdf_files:\n",
    "    text = extract_text_from_pdf(pdf_path)\n",
    "    chunks = split_text(text)\n",
    "    all_chunks.extend(chunks)\n",
    "\n",
    "# Step 2: Retrieve relevant chunks based on the user query\n",
    "relevant_chunks = retrieve_relevant_chunks(all_chunks, query)\n",
    "context = \"\\n\".join(relevant_chunks)\n",
    "\n",
    "# Step 3: Use OpenAI to generate a response\n",
    "response = generate_response(context, query)\n",
    "print(\"Response:\", response)\n",
    "\n"
   ]
  }
 ],
 "metadata": {
  "kernelspec": {
   "display_name": ".venv",
   "language": "python",
   "name": "python3"
  },
  "language_info": {
   "codemirror_mode": {
    "name": "ipython",
    "version": 3
   },
   "file_extension": ".py",
   "mimetype": "text/x-python",
   "name": "python",
   "nbconvert_exporter": "python",
   "pygments_lexer": "ipython3",
   "version": "3.12.3"
  }
 },
 "nbformat": 4,
 "nbformat_minor": 2
}
