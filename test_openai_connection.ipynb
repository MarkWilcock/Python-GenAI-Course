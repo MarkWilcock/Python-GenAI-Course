{
 "cells": [
  {
   "cell_type": "markdown",
   "metadata": {},
   "source": [
    "#  Open AI Quickstart Example\n",
    "\n",
    "This example is based on the  Open AI quickstart at https://platform.openai.com/docs/quickstart?context=python"
   ]
  },
  {
   "cell_type": "code",
   "execution_count": 3,
   "metadata": {},
   "outputs": [
    {
     "data": {
      "text/plain": [
       "True"
      ]
     },
     "execution_count": 3,
     "metadata": {},
     "output_type": "execute_result"
    }
   ],
   "source": [
    "import os\n",
    "from dotenv import load_dotenv\n",
    "load_dotenv() # Load the .env file"
   ]
  },
  {
   "cell_type": "code",
   "execution_count": 4,
   "metadata": {},
   "outputs": [
    {
     "name": "stdout",
     "output_type": "stream",
     "text": [
      "In Python's realm where coders dwell,\n",
      "Three structures come to serve us well.\n",
      "Lists, dictionaries, tuples too,\n",
      "Each with functions to help us through.\n",
      "\n",
      "A list, an ordered sequence grand,\n",
      "With elements of any brand.\n",
      "Mutable and versatile,\n",
      "It grows and shrinks with code's compile.\n",
      "\n",
      "Dictionaries, keys unlock,\n",
      "Values paired like a matching sock.\n",
      "No order here, just mappings clear,\n",
      "Access data with a key so dear.\n",
      "\n",
      "Tuples, like a list but fixed,\n",
      "Immutable and tightly mixed.\n",
      "Ordered elements in a row,\n",
      "Once assigned, they cannot grow.\n",
      "\n",
      "So remember well these structures three,\n",
      "Lists, dictionaries, tuples be.\n",
      "In Python's world, they reign supreme,\n",
      "To fulfill any coder's dream.\n"
     ]
    }
   ],
   "source": [
    "from openai import OpenAI\n",
    "\n",
    "client = OpenAI(api_key = os.getenv(\"OPENAI_API_KEY\"))  \n",
    "\n",
    "completion = client.chat.completions.create(\n",
    "  model=\"gpt-3.5-turbo\",\n",
    "  messages=[\n",
    "    {\"role\": \"system\", \"content\": \"You are a poetic assistant, skilled in explaining Python concepts.\"},\n",
    "    {\"role\": \"user\", \"content\": \"Compose a poem that explains the list, dics and tuples.\"}\n",
    "  ]\n",
    ")\n",
    "\n",
    "print(completion.choices[0].message.content)\n",
    "# print(bytes(completion.choices[0].message.content, \"utf-8\").decode(\"unicode_escape\"))"
   ]
  }
 ],
 "metadata": {
  "kernelspec": {
   "display_name": ".venv",
   "language": "python",
   "name": "python3"
  },
  "language_info": {
   "codemirror_mode": {
    "name": "ipython",
    "version": 3
   },
   "file_extension": ".py",
   "mimetype": "text/x-python",
   "name": "python",
   "nbconvert_exporter": "python",
   "pygments_lexer": "ipython3",
   "version": "3.11.2"
  }
 },
 "nbformat": 4,
 "nbformat_minor": 2
}
