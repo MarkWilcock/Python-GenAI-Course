{
 "cells": [
  {
   "cell_type": "markdown",
   "metadata": {},
   "source": [
    "# Open AI Assistant QuickStart\n",
    "Based on YouTube tutorial on OpenAI Assistants [here](https://www.youtube.com/watch?v=5rcjGjgJNQc)"
   ]
  },
  {
   "cell_type": "code",
   "execution_count": 2,
   "metadata": {},
   "outputs": [],
   "source": [
    "from openai import OpenAI\n",
    "import os\n",
    "client = OpenAI(api_key=os.environ[\"OPENAI_API_KEY\"])"
   ]
  },
  {
   "cell_type": "code",
   "execution_count": 3,
   "metadata": {},
   "outputs": [
    {
     "data": {
      "text/plain": [
       "Assistant(id='asst_Hb5uRyRt5BcgGafy3K6l0uF7', created_at=1727883841, description=None, instructions='You are a math tutor.  Write and run code to answer math problems.', metadata={}, model='gpt-4-1106-preview', name='Math tutor', object='assistant', tools=[CodeInterpreterTool(type='code_interpreter')], response_format='auto', temperature=1.0, tool_resources=ToolResources(code_interpreter=ToolResourcesCodeInterpreter(file_ids=[]), file_search=None), top_p=1.0)"
      ]
     },
     "execution_count": 3,
     "metadata": {},
     "output_type": "execute_result"
    }
   ],
   "source": [
    "assistant = client.beta.assistants.create(\n",
    "    name=\"Math tutor\", \n",
    "    instructions=\"You are a math tutor.  Write and run code to answer math problems.\",\n",
    "    tools=[{\"type\": \"code_interpreter\"}],\n",
    "    model=\"gpt-4-1106-preview\" \n",
    ")\n",
    "assistant"
   ]
  },
  {
   "cell_type": "code",
   "execution_count": 4,
   "metadata": {},
   "outputs": [
    {
     "data": {
      "text/plain": [
       "Thread(id='thread_KtlYXMY3R6A2M4EyFKz6d1D0', created_at=1727883845, metadata={}, object='thread', tool_resources=ToolResources(code_interpreter=None, file_search=None))"
      ]
     },
     "execution_count": 4,
     "metadata": {},
     "output_type": "execute_result"
    }
   ],
   "source": [
    "thread = client.beta.threads.create()\n",
    "thread"
   ]
  },
  {
   "cell_type": "code",
   "execution_count": 5,
   "metadata": {},
   "outputs": [
    {
     "data": {
      "text/plain": [
       "Message(id='msg_tKgrvlapgUqM1axYKW11TZdr', assistant_id=None, attachments=[], completed_at=None, content=[TextContentBlock(text=Text(annotations=[], value='Solve this problem. 3x + 11 = 14'), type='text')], created_at=1727883850, incomplete_at=None, incomplete_details=None, metadata={}, object='thread.message', role='user', run_id=None, status=None, thread_id='thread_KtlYXMY3R6A2M4EyFKz6d1D0')"
      ]
     },
     "execution_count": 5,
     "metadata": {},
     "output_type": "execute_result"
    }
   ],
   "source": [
    "message = client.beta.threads.messages.create(\n",
    "    thread_id=thread.id,\n",
    "    role = \"user\",\n",
    "    content = \"Solve this problem. 3x + 11 = 14\"\n",
    "    #content = \"Solve this problem. What are the values of x in the following equation. 6x + 11 = 23\"\n",
    "    #content = \"What are the values of x in the following equation\\n\\n\\ 6x^2 - 11x - 10 = 0\"\n",
    ")\n",
    "message"
   ]
  },
  {
   "cell_type": "code",
   "execution_count": 6,
   "metadata": {},
   "outputs": [],
   "source": [
    "run = client.beta.threads.runs.create(\n",
    "    thread_id=thread.id,\n",
    "    assistant_id=assistant.id, \n",
    "    instructions=\"Please start every response with 'Well then'\"\n",
    ")"
   ]
  },
  {
   "cell_type": "code",
   "execution_count": 11,
   "metadata": {},
   "outputs": [
    {
     "data": {
      "text/plain": [
       "'queued'"
      ]
     },
     "execution_count": 11,
     "metadata": {},
     "output_type": "execute_result"
    }
   ],
   "source": [
    "# Only continue once the status has changed from \"queued\" to \"complete\" or something similar\n",
    "run.status"
   ]
  },
  {
   "cell_type": "code",
   "execution_count": 12,
   "metadata": {},
   "outputs": [
    {
     "data": {
      "text/plain": [
       "Run(id='run_wZDfSb6Jgl2Zp20wAJHEJ8GM', assistant_id='asst_Hb5uRyRt5BcgGafy3K6l0uF7', cancelled_at=None, completed_at=1727883870, created_at=1727883859, expires_at=None, failed_at=None, incomplete_details=None, instructions=\"Please start every response with 'Well then'\", last_error=None, max_completion_tokens=None, max_prompt_tokens=None, metadata={}, model='gpt-4-1106-preview', object='thread.run', required_action=None, response_format='auto', started_at=1727883860, status='completed', thread_id='thread_KtlYXMY3R6A2M4EyFKz6d1D0', tool_choice='auto', tools=[CodeInterpreterTool(type='code_interpreter')], truncation_strategy=TruncationStrategy(type='auto', last_messages=None), usage=Usage(completion_tokens=154, prompt_tokens=598, total_tokens=752), temperature=1.0, top_p=1.0, tool_resources={}, parallel_tool_calls=True)"
      ]
     },
     "execution_count": 12,
     "metadata": {},
     "output_type": "execute_result"
    }
   ],
   "source": [
    "run = client.beta.threads.runs.retrieve(\n",
    "    thread_id=thread.id,\n",
    "    run_id=run.id\n",
    ")\n",
    "run\n"
   ]
  },
  {
   "cell_type": "code",
   "execution_count": 13,
   "metadata": {},
   "outputs": [
    {
     "data": {
      "text/plain": [
       "SyncCursorPage[Message](data=[Message(id='msg_XqnsI728YjcL2IXKokGqmjvz', assistant_id='asst_Hb5uRyRt5BcgGafy3K6l0uF7', attachments=[], completed_at=None, content=[TextContentBlock(text=Text(annotations=[], value='Well then, the solution to the equation \\\\( 3x + 11 = 14 \\\\) is \\\\( x = 1 \\\\).'), type='text')], created_at=1727883870, incomplete_at=None, incomplete_details=None, metadata={}, object='thread.message', role='assistant', run_id='run_wZDfSb6Jgl2Zp20wAJHEJ8GM', status=None, thread_id='thread_KtlYXMY3R6A2M4EyFKz6d1D0'), Message(id='msg_bvvDZk4tXUdw5Fx5pmFn1p9U', assistant_id='asst_Hb5uRyRt5BcgGafy3K6l0uF7', attachments=[], completed_at=None, content=[TextContentBlock(text=Text(annotations=[], value='Well then, to solve for \\\\( x \\\\) in the equation \\\\( 3x + 11 = 14 \\\\), we need to isolate \\\\( x \\\\). First, we subtract 11 from both sides of the equation, and then we divide by 3. Let me calculate that for you.'), type='text')], created_at=1727883861, incomplete_at=None, incomplete_details=None, metadata={}, object='thread.message', role='assistant', run_id='run_wZDfSb6Jgl2Zp20wAJHEJ8GM', status=None, thread_id='thread_KtlYXMY3R6A2M4EyFKz6d1D0'), Message(id='msg_tKgrvlapgUqM1axYKW11TZdr', assistant_id=None, attachments=[], completed_at=None, content=[TextContentBlock(text=Text(annotations=[], value='Solve this problem. 3x + 11 = 14'), type='text')], created_at=1727883850, incomplete_at=None, incomplete_details=None, metadata={}, object='thread.message', role='user', run_id=None, status=None, thread_id='thread_KtlYXMY3R6A2M4EyFKz6d1D0')], object='list', first_id='msg_XqnsI728YjcL2IXKokGqmjvz', last_id='msg_tKgrvlapgUqM1axYKW11TZdr', has_more=False)"
      ]
     },
     "execution_count": 13,
     "metadata": {},
     "output_type": "execute_result"
    }
   ],
   "source": [
    "messages = client.beta.threads.messages.list(\n",
    "    thread_id=thread.id\n",
    ")\n",
    "messages"
   ]
  },
  {
   "cell_type": "code",
   "execution_count": 14,
   "metadata": {},
   "outputs": [
    {
     "name": "stdout",
     "output_type": "stream",
     "text": [
      "user Solve this problem. 3x + 11 = 14\n",
      "assistant Well then, to solve for \\( x \\) in the equation \\( 3x + 11 = 14 \\), we need to isolate \\( x \\). First, we subtract 11 from both sides of the equation, and then we divide by 3. Let me calculate that for you.\n",
      "assistant Well then, the solution to the equation \\( 3x + 11 = 14 \\) is \\( x = 1 \\).\n"
     ]
    }
   ],
   "source": [
    "for message in reversed(messages.data):\n",
    "    print(message.role, message.content[0].text.value)"
   ]
  },
  {
   "cell_type": "markdown",
   "metadata": {},
   "source": [
    "Link to files with knowledge retrieval\n"
   ]
  },
  {
   "cell_type": "code",
   "execution_count": 16,
   "metadata": {},
   "outputs": [
    {
     "data": {
      "text/plain": [
       "FileObject(id='file-nbo4s8iAt5VETHu2v5pXfXoQ', bytes=64381, created_at=1727884011, filename='strictly-student-guide.pdf', object='file', purpose='assistants', status='processed', status_details=None)"
      ]
     },
     "execution_count": 16,
     "metadata": {},
     "output_type": "execute_result"
    }
   ],
   "source": [
    "file = client.files.create(\n",
    "    purpose=\"assistants\",\n",
    "    file=open(\"resources/strictly-student-guide.pdf\", \"rb\")\n",
    ")\n",
    "file"
   ]
  },
  {
   "cell_type": "code",
   "execution_count": 17,
   "metadata": {},
   "outputs": [
    {
     "data": {
      "text/plain": [
       "Assistant(id='asst_IIAszbbo0jb04fBtTcq8rtkF', created_at=1727884045, description=None, instructions='Please read the document and answer the questions.', metadata={}, model='gpt-4-1106-preview', name='Strictly tutor', object='assistant', tools=[FileSearchTool(type='file_search', file_search={'ranking_options': {'ranker': 'default_2024_08_21', 'score_threshold': 0.0}})], response_format='auto', temperature=1.0, tool_resources=ToolResources(code_interpreter=None, file_search=ToolResourcesFileSearch(vector_store_ids=[])), top_p=1.0)"
      ]
     },
     "execution_count": 17,
     "metadata": {},
     "output_type": "execute_result"
    }
   ],
   "source": [
    "doc_assistant = client.beta.assistants.create(\n",
    "    name=\"Strictly tutor\", \n",
    "    instructions=\"Please read the document and answer the questions.\",\n",
    "    tools=[{\"type\": \"file_search\"}],\n",
    "    model=\"gpt-4-1106-preview\" \n",
    "    #file_ids=[file.id]\n",
    ")\n",
    "doc_assistant"
   ]
  },
  {
   "cell_type": "code",
   "execution_count": 18,
   "metadata": {},
   "outputs": [
    {
     "data": {
      "text/plain": [
       "Thread(id='thread_wy3ehb5rP6TxuRrGiT56tlmY', created_at=1727884051, metadata={}, object='thread', tool_resources=ToolResources(code_interpreter=None, file_search=None))"
      ]
     },
     "execution_count": 18,
     "metadata": {},
     "output_type": "execute_result"
    }
   ],
   "source": [
    "doc_thread = client.beta.threads.create()\n",
    "doc_thread"
   ]
  },
  {
   "cell_type": "code",
   "execution_count": 19,
   "metadata": {},
   "outputs": [
    {
     "data": {
      "text/plain": [
       "Message(id='msg_9NjuXoMpvuVtJSCE664SaaXk', assistant_id=None, attachments=[], completed_at=None, content=[TextContentBlock(text=Text(annotations=[], value='Describe the Strictly TV series.'), type='text')], created_at=1727884062, incomplete_at=None, incomplete_details=None, metadata={}, object='thread.message', role='user', run_id=None, status=None, thread_id='thread_wy3ehb5rP6TxuRrGiT56tlmY')"
      ]
     },
     "execution_count": 19,
     "metadata": {},
     "output_type": "execute_result"
    }
   ],
   "source": [
    "message = client.beta.threads.messages.create(\n",
    "    thread_id=doc_thread.id,\n",
    "    role = \"user\",\n",
    "    \n",
    "    #file_id = file.id,\n",
    "    #content = \"Name the Strictly judges.\"\n",
    "    content = \"Describe the Strictly TV series.\"\n",
    "    #content = \"Solve this problem. What are the values of x in the following equation. 6x + 11 = 23\"\n",
    "    #content = \"What are the values of x in the following equation\\n\\n\\ 6x^2 - 11x - 10 = 0\"\n",
    ")\n",
    "message"
   ]
  },
  {
   "cell_type": "code",
   "execution_count": 20,
   "metadata": {},
   "outputs": [],
   "source": [
    "doc_run = client.beta.threads.runs.create(\n",
    "    thread_id=doc_thread.id,\n",
    "    assistant_id=doc_assistant.id\n",
    ")"
   ]
  },
  {
   "cell_type": "code",
   "execution_count": 22,
   "metadata": {},
   "outputs": [
    {
     "data": {
      "text/plain": [
       "'queued'"
      ]
     },
     "execution_count": 22,
     "metadata": {},
     "output_type": "execute_result"
    }
   ],
   "source": [
    "doc_run.status"
   ]
  },
  {
   "cell_type": "code",
   "execution_count": 23,
   "metadata": {},
   "outputs": [],
   "source": [
    "doc_run = client.beta.threads.runs.retrieve(\n",
    "    thread_id=doc_thread.id,\n",
    "    run_id=doc_run.id\n",
    ")"
   ]
  },
  {
   "cell_type": "code",
   "execution_count": null,
   "metadata": {},
   "outputs": [],
   "source": [
    "doc_run.status"
   ]
  },
  {
   "cell_type": "code",
   "execution_count": null,
   "metadata": {},
   "outputs": [],
   "source": [
    "messages = client.beta.threads.messages.list(\n",
    "    thread_id=doc_thread.id\n",
    ")\n",
    "messages"
   ]
  },
  {
   "cell_type": "code",
   "execution_count": null,
   "metadata": {},
   "outputs": [],
   "source": [
    "for message in reversed(messages.data):\n",
    "    print(message.role, message.content[0].text.value)"
   ]
  }
 ],
 "metadata": {
  "kernelspec": {
   "display_name": ".venv",
   "language": "python",
   "name": "python3"
  },
  "language_info": {
   "codemirror_mode": {
    "name": "ipython",
    "version": 3
   },
   "file_extension": ".py",
   "mimetype": "text/x-python",
   "name": "python",
   "nbconvert_exporter": "python",
   "pygments_lexer": "ipython3",
   "version": "3.12.3"
  }
 },
 "nbformat": 4,
 "nbformat_minor": 2
}
